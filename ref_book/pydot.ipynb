{
 "cells": [
  {
   "cell_type": "markdown",
   "metadata": {},
   "source": [
    "# Intro to Pydot and Graphviz libraries\n",
    "To be used for debugging TDI Jupyter notebooks that crash on pydot and graphvis in my conda virtual environement.  These notes are aimed at tailoring the virtual env to make pydot and graphviz work.  This first attempt is in an environment cloned from scipy2.\n"
   ]
  },
  {
   "cell_type": "markdown",
   "metadata": {},
   "source": [
    "The requirements file from TDI Digital Oceans vagrant instance is `~/Data/TDI/home/pip_list_output.txt`   \n",
    "  \n",
    "Listed includes:  \n",
    "* pydot 1.0.2  \n",
    "* pyparsing 1.5.7  \n",
    "\n",
    "`$conda install pydot`   \n",
    "```\n",
    "asks to install:  \n",
    "    pydot 1.0.28   \n",
    "and downgrades:   \n",
    "    pyparsing 2.0.3 -> 1.5.6\n",
    "```"
   ]
  },
  {
   "cell_type": "code",
   "execution_count": 28,
   "metadata": {},
   "outputs": [],
   "source": [
    "import pydotplus\n"
   ]
  },
  {
   "cell_type": "code",
   "execution_count": 31,
   "metadata": {},
   "outputs": [
    {
     "ename": "InvocationException",
     "evalue": "GraphViz's executables not found",
     "output_type": "error",
     "traceback": [
      "\u001b[1;31m---------------------------------------------------------------------------\u001b[0m",
      "\u001b[1;31mInvocationException\u001b[0m                       Traceback (most recent call last)",
      "\u001b[1;32m<ipython-input-31-4eb08ecee424>\u001b[0m in \u001b[0;36m<module>\u001b[1;34m\u001b[0m\n\u001b[0;32m      3\u001b[0m \u001b[0mgraph\u001b[0m\u001b[1;33m.\u001b[0m\u001b[0mset_edge_defaults\u001b[0m\u001b[1;33m(\u001b[0m\u001b[0mcolor\u001b[0m\u001b[1;33m=\u001b[0m\u001b[1;34m\"blue\"\u001b[0m\u001b[1;33m,\u001b[0m \u001b[0marrowhead\u001b[0m\u001b[1;33m=\u001b[0m\u001b[1;34m\"vee\"\u001b[0m\u001b[1;33m,\u001b[0m \u001b[0mweight\u001b[0m\u001b[1;33m=\u001b[0m\u001b[1;34m\"0\"\u001b[0m\u001b[1;33m)\u001b[0m\u001b[1;33m\u001b[0m\u001b[1;33m\u001b[0m\u001b[0m\n\u001b[0;32m      4\u001b[0m \u001b[1;33m\u001b[0m\u001b[0m\n\u001b[1;32m----> 5\u001b[1;33m \u001b[0mgraph\u001b[0m\u001b[1;33m.\u001b[0m\u001b[0mcreate_fig\u001b[0m\u001b[1;33m(\u001b[0m\u001b[1;33m)\u001b[0m\u001b[1;33m\u001b[0m\u001b[1;33m\u001b[0m\u001b[0m\n\u001b[0m",
      "\u001b[1;32mC:\\ProgramData\\Anaconda3\\lib\\site-packages\\pydotplus\\graphviz.py\u001b[0m in \u001b[0;36m<lambda>\u001b[1;34m(f, prog)\u001b[0m\n\u001b[0;32m   1795\u001b[0m             self.__setattr__(\n\u001b[0;32m   1796\u001b[0m                 \u001b[1;34m'create_'\u001b[0m \u001b[1;33m+\u001b[0m \u001b[0mfrmt\u001b[0m\u001b[1;33m,\u001b[0m\u001b[1;33m\u001b[0m\u001b[1;33m\u001b[0m\u001b[0m\n\u001b[1;32m-> 1797\u001b[1;33m                 \u001b[1;32mlambda\u001b[0m \u001b[0mf\u001b[0m\u001b[1;33m=\u001b[0m\u001b[0mfrmt\u001b[0m\u001b[1;33m,\u001b[0m \u001b[0mprog\u001b[0m\u001b[1;33m=\u001b[0m\u001b[0mself\u001b[0m\u001b[1;33m.\u001b[0m\u001b[0mprog\u001b[0m\u001b[1;33m:\u001b[0m \u001b[0mself\u001b[0m\u001b[1;33m.\u001b[0m\u001b[0mcreate\u001b[0m\u001b[1;33m(\u001b[0m\u001b[0mformat\u001b[0m\u001b[1;33m=\u001b[0m\u001b[0mf\u001b[0m\u001b[1;33m,\u001b[0m \u001b[0mprog\u001b[0m\u001b[1;33m=\u001b[0m\u001b[0mprog\u001b[0m\u001b[1;33m)\u001b[0m\u001b[1;33m\u001b[0m\u001b[1;33m\u001b[0m\u001b[0m\n\u001b[0m\u001b[0;32m   1798\u001b[0m             )\n\u001b[0;32m   1799\u001b[0m             \u001b[0mf\u001b[0m \u001b[1;33m=\u001b[0m \u001b[0mself\u001b[0m\u001b[1;33m.\u001b[0m\u001b[0m__dict__\u001b[0m\u001b[1;33m[\u001b[0m\u001b[1;34m'create_'\u001b[0m \u001b[1;33m+\u001b[0m \u001b[0mfrmt\u001b[0m\u001b[1;33m]\u001b[0m\u001b[1;33m\u001b[0m\u001b[1;33m\u001b[0m\u001b[0m\n",
      "\u001b[1;32mC:\\ProgramData\\Anaconda3\\lib\\site-packages\\pydotplus\\graphviz.py\u001b[0m in \u001b[0;36mcreate\u001b[1;34m(self, prog, format)\u001b[0m\n\u001b[0;32m   1958\u001b[0m             \u001b[1;32mif\u001b[0m \u001b[0mself\u001b[0m\u001b[1;33m.\u001b[0m\u001b[0mprogs\u001b[0m \u001b[1;32mis\u001b[0m \u001b[1;32mNone\u001b[0m\u001b[1;33m:\u001b[0m\u001b[1;33m\u001b[0m\u001b[1;33m\u001b[0m\u001b[0m\n\u001b[0;32m   1959\u001b[0m                 raise InvocationException(\n\u001b[1;32m-> 1960\u001b[1;33m                     'GraphViz\\'s executables not found')\n\u001b[0m\u001b[0;32m   1961\u001b[0m \u001b[1;33m\u001b[0m\u001b[0m\n\u001b[0;32m   1962\u001b[0m         \u001b[1;32mif\u001b[0m \u001b[0mprog\u001b[0m \u001b[1;32mnot\u001b[0m \u001b[1;32min\u001b[0m \u001b[0mself\u001b[0m\u001b[1;33m.\u001b[0m\u001b[0mprogs\u001b[0m\u001b[1;33m:\u001b[0m\u001b[1;33m\u001b[0m\u001b[1;33m\u001b[0m\u001b[0m\n",
      "\u001b[1;31mInvocationException\u001b[0m: GraphViz's executables not found"
     ]
    }
   ],
   "source": [
    "graph = pydotplus.Dot(graph_type='digraph', nodesep=.75)\n",
    "graph.set_node_defaults(style=\"filled\", fillcolor=\"grey\")\n",
    "graph.set_edge_defaults(color=\"blue\", arrowhead=\"vee\", weight=\"0\")\n",
    "\n",
    "graph.create_fig()\n"
   ]
  },
  {
   "cell_type": "markdown",
   "metadata": {},
   "source": [
    "Error: `GraphViz's executables not found`   \n",
    "\n",
    "Stack exchange suggests installing graphviz via homebrew on the mac, rather than trying conda or anything else.\n",
    "https://stackoverflow.com/questions/26153413/error-graphvizs-executables-not-found-when-calling-graphviz-layout-from-netwo   \n",
    "\n",
    "`$ brew install graphviz`   \n",
    "```sh\n",
    "WalterAir:~ walter$ brew install graphviz\n",
    "==> Downloading http://graphviz.org/pub/graphviz/stable/SOURCES/graphviz-2.38.0.\n",
    "######################################################################## 100.0%\n",
    "==> Downloading https://trac.macports.org/export/103168/trunk/dports/graphics/gr\n",
    "######################################################################## 100.0%\n",
    "==> Patching\n",
    "patching file macosx/graphviz.xcodeproj/project.pbxproj\n",
    "==> ./configure --prefix=/usr/local/Cellar/graphviz/2.38.0 --without-qt --with-q\n",
    "==> make install\n",
    "🍺  /usr/local/Cellar/graphviz/2.38.0: 469 files, 68M, built in 3.0 minutes\n",
    "```\n",
    "\n",
    "This solves the error."
   ]
  },
  {
   "cell_type": "code",
   "execution_count": 26,
   "metadata": {},
   "outputs": [
    {
     "ename": "TypeError",
     "evalue": "cannot unpack non-iterable Dot object",
     "output_type": "error",
     "traceback": [
      "\u001b[1;31m---------------------------------------------------------------------------\u001b[0m",
      "\u001b[1;31mTypeError\u001b[0m                                 Traceback (most recent call last)",
      "\u001b[1;32m<ipython-input-26-cc197b7ffc9d>\u001b[0m in \u001b[0;36m<module>\u001b[1;34m\u001b[0m\n\u001b[1;32m----> 1\u001b[1;33m \u001b[1;33m(\u001b[0m\u001b[0mgraph\u001b[0m\u001b[1;33m,\u001b[0m \u001b[1;33m)\u001b[0m \u001b[1;33m=\u001b[0m \u001b[0mpydot\u001b[0m\u001b[1;33m.\u001b[0m\u001b[0mDot\u001b[0m\u001b[1;33m(\u001b[0m\u001b[0mgraph_type\u001b[0m\u001b[1;33m=\u001b[0m\u001b[1;34m'digraph'\u001b[0m\u001b[1;33m,\u001b[0m \u001b[0mnodesep\u001b[0m\u001b[1;33m=\u001b[0m\u001b[1;36m.75\u001b[0m\u001b[1;33m)\u001b[0m\u001b[1;33m\u001b[0m\u001b[1;33m\u001b[0m\u001b[0m\n\u001b[0m\u001b[0;32m      2\u001b[0m \u001b[0mgraph\u001b[0m\u001b[1;33m.\u001b[0m\u001b[0mset_node_defaults\u001b[0m\u001b[1;33m(\u001b[0m\u001b[0mstyle\u001b[0m\u001b[1;33m=\u001b[0m\u001b[1;34m\"filled\"\u001b[0m\u001b[1;33m,\u001b[0m \u001b[0mfillcolor\u001b[0m\u001b[1;33m=\u001b[0m\u001b[1;34m\"grey\"\u001b[0m\u001b[1;33m)\u001b[0m\u001b[1;33m\u001b[0m\u001b[1;33m\u001b[0m\u001b[0m\n\u001b[0;32m      3\u001b[0m \u001b[0mgraph\u001b[0m\u001b[1;33m.\u001b[0m\u001b[0mset_edge_defaults\u001b[0m\u001b[1;33m(\u001b[0m\u001b[0mcolor\u001b[0m\u001b[1;33m=\u001b[0m\u001b[1;34m\"blue\"\u001b[0m\u001b[1;33m,\u001b[0m \u001b[0marrowhead\u001b[0m\u001b[1;33m=\u001b[0m\u001b[1;34m\"vee\"\u001b[0m\u001b[1;33m,\u001b[0m \u001b[0mweight\u001b[0m\u001b[1;33m=\u001b[0m\u001b[1;34m\"0\"\u001b[0m\u001b[1;33m)\u001b[0m\u001b[1;33m\u001b[0m\u001b[1;33m\u001b[0m\u001b[0m\n\u001b[0;32m      4\u001b[0m \u001b[1;33m\u001b[0m\u001b[0m\n\u001b[0;32m      5\u001b[0m \u001b[0mgraph\u001b[0m\u001b[1;33m.\u001b[0m\u001b[0mcreate_fig\u001b[0m\u001b[1;33m(\u001b[0m\u001b[1;33m)\u001b[0m\u001b[1;33m\u001b[0m\u001b[1;33m\u001b[0m\u001b[0m\n",
      "\u001b[1;31mTypeError\u001b[0m: cannot unpack non-iterable Dot object"
     ]
    }
   ],
   "source": [
    "graph = pydotplus.Dot(graph_type='digraph', nodesep=.75)\n",
    "graph.set_node_defaults(style=\"filled\", fillcolor=\"grey\")\n",
    "graph.set_edge_defaults(color=\"blue\", arrowhead=\"vee\", weight=\"0\")\n",
    "\n",
    "graph.create_fig()\n",
    "graph.create_dot()\n",
    "graph.create_png()\n",
    "\n",
    "graph.shape_files\n",
    "print(graph.__doc__)   # same output as >>>graph?\n"
   ]
  },
  {
   "cell_type": "code",
   "execution_count": 27,
   "metadata": {},
   "outputs": [
    {
     "ename": "AttributeError",
     "evalue": "'list' object has no attribute 'create'",
     "output_type": "error",
     "traceback": [
      "\u001b[1;31m---------------------------------------------------------------------------\u001b[0m",
      "\u001b[1;31mAttributeError\u001b[0m                            Traceback (most recent call last)",
      "\u001b[1;32m<ipython-input-27-78e5f3736245>\u001b[0m in \u001b[0;36m<module>\u001b[1;34m\u001b[0m\n\u001b[1;32m----> 1\u001b[1;33m \u001b[0mprint\u001b[0m\u001b[1;33m(\u001b[0m\u001b[0mgraph\u001b[0m\u001b[1;33m.\u001b[0m\u001b[0mcreate\u001b[0m\u001b[1;33m.\u001b[0m\u001b[0m__doc__\u001b[0m\u001b[1;33m)\u001b[0m\u001b[1;33m\u001b[0m\u001b[1;33m\u001b[0m\u001b[0m\n\u001b[0m\u001b[0;32m      2\u001b[0m \u001b[1;33m\u001b[0m\u001b[0m\n",
      "\u001b[1;31mAttributeError\u001b[0m: 'list' object has no attribute 'create'"
     ]
    }
   ],
   "source": [
    "print(graph.create.__doc__)\n",
    "\n"
   ]
  },
  {
   "cell_type": "code",
   "execution_count": 24,
   "metadata": {},
   "outputs": [],
   "source": [
    "from IPython import display\n",
    "from sklearn import datasets, utils, tree\n",
    "from sklearn.externals.six import StringIO  \n",
    "\n",
    "dataset = datasets.load_iris()"
   ]
  },
  {
   "cell_type": "code",
   "execution_count": 25,
   "metadata": {},
   "outputs": [
    {
     "name": "stdout",
     "output_type": "stream",
     "text": [
      "The sklearn dataset is of type(): <class 'sklearn.utils.Bunch'>\n",
      " \"graph\" is object of type <class 'list'> \n"
     ]
    },
    {
     "ename": "AttributeError",
     "evalue": "'list' object has no attribute 'create_png'",
     "output_type": "error",
     "traceback": [
      "\u001b[1;31m---------------------------------------------------------------------------\u001b[0m",
      "\u001b[1;31mAttributeError\u001b[0m                            Traceback (most recent call last)",
      "\u001b[1;32m<ipython-input-25-5a1981814b88>\u001b[0m in \u001b[0;36m<module>\u001b[1;34m\u001b[0m\n\u001b[0;32m     11\u001b[0m \u001b[0mprint\u001b[0m \u001b[1;33m(\u001b[0m\u001b[1;34m' \"graph\" is object of type {} '\u001b[0m\u001b[1;33m.\u001b[0m\u001b[0mformat\u001b[0m\u001b[1;33m(\u001b[0m\u001b[0mtype\u001b[0m\u001b[1;33m(\u001b[0m\u001b[0mgraph\u001b[0m\u001b[1;33m)\u001b[0m\u001b[1;33m)\u001b[0m \u001b[1;33m)\u001b[0m\u001b[1;33m\u001b[0m\u001b[1;33m\u001b[0m\u001b[0m\n\u001b[0;32m     12\u001b[0m \u001b[1;33m\u001b[0m\u001b[0m\n\u001b[1;32m---> 13\u001b[1;33m \u001b[0mdisplay\u001b[0m\u001b[1;33m.\u001b[0m\u001b[0mImage\u001b[0m\u001b[1;33m(\u001b[0m\u001b[0mgraph\u001b[0m\u001b[1;33m.\u001b[0m\u001b[0mcreate_png\u001b[0m\u001b[1;33m(\u001b[0m\u001b[1;33m)\u001b[0m\u001b[1;33m)\u001b[0m\u001b[1;33m\u001b[0m\u001b[1;33m\u001b[0m\u001b[0m\n\u001b[0m",
      "\u001b[1;31mAttributeError\u001b[0m: 'list' object has no attribute 'create_png'"
     ]
    }
   ],
   "source": [
    "print ('The sklearn dataset is of type(): {}'.format(type(dataset)))\n",
    "dataset\n",
    "X_iris, y_iris = utils.shuffle(dataset.data, dataset.target, random_state=42)\n",
    "tree_clf = tree.DecisionTreeClassifier(max_depth=3).fit(X_iris, y_iris)\n",
    "\n",
    "dot_data = StringIO()\n",
    "tree.export_graphviz(tree_clf, out_file=dot_data)\n",
    "dot_data.getvalue()\n",
    "\n",
    "graph = pydotplus.graph_from_dot_data(dot_data.getvalue())\n",
    "print (' \"graph\" is object of type {} '.format(type(graph)) )\n",
    "\n",
    "display.Image(graph.create_png())"
   ]
  },
  {
   "cell_type": "code",
   "execution_count": 12,
   "metadata": {},
   "outputs": [
    {
     "ename": "SyntaxError",
     "evalue": "Missing parentheses in call to 'print'. Did you mean print(tree.export_graphviz.__doc__)? (<ipython-input-12-513011ad7b8e>, line 1)",
     "output_type": "error",
     "traceback": [
      "\u001b[1;36m  File \u001b[1;32m\"<ipython-input-12-513011ad7b8e>\"\u001b[1;36m, line \u001b[1;32m1\u001b[0m\n\u001b[1;33m    print tree.export_graphviz.__doc__\u001b[0m\n\u001b[1;37m             ^\u001b[0m\n\u001b[1;31mSyntaxError\u001b[0m\u001b[1;31m:\u001b[0m Missing parentheses in call to 'print'. Did you mean print(tree.export_graphviz.__doc__)?\n"
     ]
    }
   ],
   "source": [
    "print tree.export_graphviz.__doc__"
   ]
  },
  {
   "cell_type": "code",
   "execution_count": 46,
   "metadata": {
    "scrolled": true
   },
   "outputs": [
    {
     "name": "stdout",
     "output_type": "stream",
     "text": [
      "class StringIO([buffer])\n",
      "\n",
      "    When a StringIO object is created, it can be initialized to an existing\n",
      "    string by passing the string to the constructor. If no string is given,\n",
      "    the StringIO will start empty.\n",
      "\n",
      "    The StringIO object can accept either Unicode or 8-bit strings, but\n",
      "    mixing the two may take some care. If both are used, 8-bit strings that\n",
      "    cannot be interpreted as 7-bit ASCII (that use the 8th bit) will cause\n",
      "    a UnicodeError to be raised when getvalue() is called.\n",
      "    \n"
     ]
    }
   ],
   "source": [
    "print StringIO.__doc__"
   ]
  },
  {
   "cell_type": "markdown",
   "metadata": {},
   "source": [
    "# Display YouTube video in Jupyter notebook"
   ]
  },
  {
   "cell_type": "code",
   "execution_count": 77,
   "metadata": {
    "scrolled": true
   },
   "outputs": [
    {
     "data": {
      "text/html": [
       "\n",
       "        <iframe\n",
       "            width=\"400\"\n",
       "            height=\"300\"\n",
       "            src=\"https://www.youtube.com/embed/2TT1EKPV_hc\"\n",
       "            frameborder=\"0\"\n",
       "            allowfullscreen\n",
       "        ></iframe>\n",
       "        "
      ],
      "text/plain": [
       "<IPython.lib.display.YouTubeVideo at 0x10751ead0>"
      ]
     },
     "metadata": {},
     "output_type": "display_data"
    }
   ],
   "source": [
    "\n",
    "# https://www.youtube.com/watch?v=2TT1EKPV_hc\n",
    "youtube_id = \"2TT1EKPV_hc\"\n",
    "\n",
    "vid = display.YouTubeVideo(youtube_id)\n",
    "display.display(vid)\n"
   ]
  },
  {
   "cell_type": "code",
   "execution_count": 78,
   "metadata": {},
   "outputs": [
    {
     "name": "stdout",
     "output_type": "stream",
     "text": [
      "Class for embedding a YouTube Video in an IPython session, based on its video id.\n",
      "\n",
      "    e.g. to embed the video from https://www.youtube.com/watch?v=foo , you would\n",
      "    do::\n",
      "\n",
      "        vid = YouTubeVideo(\"foo\")\n",
      "        display(vid)\n",
      "\n",
      "    To start from 30 seconds::\n",
      "\n",
      "        vid = YouTubeVideo(\"abc\", start=30)\n",
      "        display(vid)\n",
      "\n",
      "    To calculate seconds from time as hours, minutes, seconds use\n",
      "    :class:`datetime.timedelta`::\n",
      "\n",
      "        start=int(timedelta(hours=1, minutes=46, seconds=40).total_seconds())\n",
      "\n",
      "    Other parameters can be provided as documented at\n",
      "    https://developers.google.com/youtube/player_parameters#parameter-subheader\n",
      "    \n"
     ]
    }
   ],
   "source": [
    "print display.YouTubeVideo.__doc__"
   ]
  },
  {
   "cell_type": "markdown",
   "metadata": {},
   "source": [
    "# Reproducibility   \n",
    "http://codingnews.info/slides/environments.html#/18  "
   ]
  },
  {
   "cell_type": "markdown",
   "metadata": {},
   "source": [
    "## Anaconda.org login  \n",
    "```\n",
    "anaconda login --help\n",
    "anaconda lo"
   ]
  },
  {
   "cell_type": "markdown",
   "metadata": {},
   "source": [
    "## Working with notebooks\n",
    "```\n",
    "$ conda create -n project\n",
    "$ conda install -y bokeh pandas jupyter\n",
    "$ ipython notebook iris.ipynb\n",
    "$ conda env attach -n iris iris.ipynb\n",
    "$ anaconda notebook upload iris.ipynb\n",
    "```"
   ]
  },
  {
   "cell_type": "markdown",
   "metadata": {},
   "source": [
    "## Reusing your notebook  (anaconda.org username: walter)  \n",
    "```\n",
    "$ anaconda notebook download walter/iris\n",
    "$ conda env create iris.ipynb\n",
    "$ source activate iris\n",
    "$ ipython notebook iris.ipynb\n",
    "```"
   ]
  }
 ],
 "metadata": {
  "environment": {
   "dependencies": [
    "appnope=0.1.0=py27_0",
    "backports_abc=0.4=py27_0",
    "cycler=0.9.0=py27_0",
    "decorator=4.0.6=py27_0",
    "freetype=2.5.5=0",
    "ipykernel=4.2.2=py27_0",
    "ipython=4.0.3=py27_0",
    "ipython_genutils=0.1.0=py27_0",
    "ipywidgets=4.1.1=py27_0",
    "jinja2=2.8=py27_0",
    "jsonschema=2.4.0=py27_0",
    "jupyter=1.0.0=py27_1",
    "jupyter_client=4.1.1=py27_0",
    "jupyter_console=4.1.0=py27_0",
    "jupyter_core=4.0.6=py27_0",
    "libpng=1.6.17=0",
    "markupsafe=0.23=py27_0",
    "matplotlib=1.5.1=np110py27_0",
    "mistune=0.7.1=py27_0",
    "nbconvert=4.1.0=py27_0",
    "nbformat=4.0.1=py27_0",
    "notebook=4.1.0=py27_0",
    "numpy=1.10.2=py27_0",
    "openssl=1.0.2f=0",
    "pandas=0.17.1=np110py27_0",
    "path.py=8.1.2=py27_1",
    "patsy=0.4.0=np110py27_0",
    "pexpect=3.3=py27_0",
    "pickleshare=0.5=py27_0",
    "pip=8.0.2=py27_0",
    "ptyprocess=0.5=py27_0",
    "pydot=1.0.28=py27_0",
    "pygments=2.1=py27_0",
    "pyparsing=1.5.6=py27_0",
    "pyqt=4.11.4=py27_1",
    "python=2.7.11=0",
    "python-dateutil=2.4.2=py27_0",
    "python.app=1.2=py27_4",
    "pytz=2015.7=py27_0",
    "pyzmq=15.2.0=py27_0",
    "qt=4.8.7=1",
    "qtconsole=4.1.1=py27_0",
    "readline=6.2=2",
    "scikit-learn=0.17=np110py27_1",
    "scipy=0.16.1=np110py27_0",
    "setuptools=19.6.2=py27_0",
    "simplegeneric=0.8.1=py27_0",
    "singledispatch=3.4.0.3=py27_0",
    "sip=4.16.9=py27_0",
    "six=1.10.0=py27_0",
    "sqlite=3.9.2=0",
    "ssl_match_hostname=3.4.0.2=py27_0",
    "statsmodels=0.6.1=np110py27_0",
    "terminado=0.5=py27_1",
    "tk=8.5.18=0",
    "tornado=4.3=py27_0",
    "traitlets=4.1.0=py27_0",
    "wheel=0.29.0=py27_0",
    "zlib=1.2.8=0",
    {
     "pip": [
      "backports-abc==0.4",
      "backports.ssl-match-hostname==3.4.0.2",
      "ipython-genutils==0.1.0",
      "jupyter-client==4.1.1",
      "jupyter-console==4.1.0",
      "jupyter-core==4.0.6"
     ]
    }
   ],
   "name": "pydot"
  },
  "kernelspec": {
   "display_name": "Python 3",
   "language": "python",
   "name": "python3"
  },
  "language_info": {
   "codemirror_mode": {
    "name": "ipython",
    "version": 3
   },
   "file_extension": ".py",
   "mimetype": "text/x-python",
   "name": "python",
   "nbconvert_exporter": "python",
   "pygments_lexer": "ipython3",
   "version": "3.7.3"
  }
 },
 "nbformat": 4,
 "nbformat_minor": 1
}
