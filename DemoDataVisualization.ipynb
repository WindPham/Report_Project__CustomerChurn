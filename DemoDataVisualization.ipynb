{
 "cells": [
  {
   "cell_type": "code",
   "execution_count": 94,
   "metadata": {},
   "outputs": [],
   "source": [
    "import numpy as np\n",
    "import scipy as scp\n",
    "import sklearn as skl\n",
    "import pandas as pd\n",
    "import pickle as pk\n",
    "from sklearn.svm import SVC\n",
    "from sklearn.model_selection import train_test_split\n",
    "from scipy.stats import zscore\n",
    "from sklearn.cluster import DBSCAN\n",
    "from sklearn.ensemble import IsolationForest\n",
    "import time\n"
   ]
  },
  {
   "cell_type": "code",
   "execution_count": 97,
   "metadata": {},
   "outputs": [],
   "source": [
    "import matplotlib.pyplot as plt\n",
    "\n",
    "class PLOT(object):\n",
    "    #--------------------------------------------------------------------------------------------\n",
    "    def __init__(self, name_file_csv):\n",
    "        self.__df = pd.read_csv(name_file_csv);\n",
    "        return;\n",
    "    #--------------------------------------------------------------------------------------------\n",
    "    def print_head(self):\n",
    "        print(self.__df.head());\n",
    "        return;\n",
    "    #--------------------------------------------------------------------------------------------\n",
    "    def print_tail(self):\n",
    "        print(self.__df.tail());\n",
    "        return;\n",
    "    #--------------------------------------------------------------------------------------------\n",
    "    def plt_line_two_columns(self, col_1_name, col_2_name):\n",
    "        if self.__df[col_1_name].dtypes != 'object' and self.__df[col_2_name].dtypes != 'object':\n",
    "            df = self.__df.sort_values(by = col_1_name)\n",
    "            df.plot(x=col_1_name, y = col_2_name, figsize=(10,5), grid = True);\n",
    "            plt.show();\n",
    "        else :\n",
    "            print(\"Can't draw!\");\n",
    "        return;\n",
    "    #--------------------------------------------------------------------------------------------\n",
    "    def plt_points_two_column(self, col_1_name, col_2_name):\n",
    "        if self.__df[col_1_name].dtypes != 'object' and self.__df[col_2_name].dtypes != 'object':\n",
    "            df = self.__df.sort_values(by = col_1_name)\n",
    "            df.plot.scatter(x=col_1_name, y = col_2_name, figsize=(15,5), grid = True);\n",
    "            plt.show();\n",
    "        else :\n",
    "            print(\"Can't draw!\");\n",
    "        return;\n",
    "    #--------------------------------------------------------------------------------------------\n",
    "    def plt_area_two_column(self, col_1_name, col_2_name):\n",
    "        if(self.__df[col_2_name].dtypes == 'object'):\n",
    "            df = self.__df[[col_1_name, col_2_name]];\n",
    "            df = pd.get_dummies(df);\n",
    "            df = df.groupby(col_1_name).agg(lambda x: x.eq(1).sum());\n",
    "            df.plot(kind = 'area');\n",
    "            plt.show();\n",
    "        else:\n",
    "            print(\"Can't draw!\");\n",
    "        return;\n",
    "    #---------------------------------------------------------------------------------------------\n",
    "    def plt_hist(self, col_name, Bins = 10):\n",
    "        self.__df[col_name].plot(kind = 'hist', bins = Bins);\n",
    "        plt.show();\n",
    "        return;\n",
    "    #---------------------------------------------------------------------------------------------\n",
    "    def plt_bar(self, col_1_name, col_2_name):\n",
    "        df =  self.__df[[col_1_name, col_2_name]];\n",
    "        df = pd.get_dummies(df);\n",
    "        df = df.groupby(col_1_name).agg(lambda x: x.eq(1).sum());\n",
    "        df.plot(kind = 'bar');\n",
    "        plt.show();\n",
    "        return;\n",
    "    #---------------------------------------------------------------------------------------------\n",
    "    def plt_pie(self, col_1_name, col_2_name):\n",
    "        df = self.__df.groupby(col_1_name).sum();\n",
    "        df[col_2_name].plot(kind = 'pie');\n",
    "        plt.show();\n",
    "        return;\n"
   ]
  },
  {
   "cell_type": "code",
   "execution_count": 98,
   "metadata": {},
   "outputs": [
    {
     "data": {
      "image/png": "[encoded data removed]",
      "text/plain": [
       "<Figure size 432x288 with 1 Axes>"
      ]
     },
     "metadata": {
      "needs_background": "light"
     },
     "output_type": "display_data"
    }
   ],
   "source": [
    "if __name__ == \"__main__\":\n",
    "    df = PLOT(\"WA_Fn-UseC_-Telco-Customer-Churn-standard.csv\");\n",
    "    #df.plt_line_two_columns(\"tenure\", \"TotalCharges\");\n",
    "    #df.plt_points_two_column(\"tenure\", \"TotalCharges\");\n",
    "    #df.plt_points_two_column(\"tenure\", \"MonthlyCharges\");\n",
    "    #df.plt_points_two_column(\"MonthlyCharges\", \"TotalCharges\");\n",
    "    #df.plt_area_two_column(\"tenure\", \"TechSupport\");\n",
    "    #df.plt_area_two_column(col_1_name = \"tenure\", col_2_name = \"gender\");\n",
    "    #df.plt_hist('tenure', 3);\n",
    "    df.plt_bar('tenure','TechSupport')"
   ]
  },
  {
   "cell_type": "code",
   "execution_count": null,
   "metadata": {},
   "outputs": [],
   "source": []
  },
  {
   "cell_type": "code",
   "execution_count": null,
   "metadata": {},
   "outputs": [],
   "source": []
  }
 ],
 "metadata": {
  "kernelspec": {
   "display_name": "Python 3",
   "language": "python",
   "name": "python3"
  },
  "language_info": {
   "codemirror_mode": {
    "name": "ipython",
    "version": 3
   },
   "file_extension": ".py",
   "mimetype": "text/x-python",
   "name": "python",
   "nbconvert_exporter": "python",
   "pygments_lexer": "ipython3",
   "version": "3.7.3"
  }
 },
 "nbformat": 4,
 "nbformat_minor": 2
}
