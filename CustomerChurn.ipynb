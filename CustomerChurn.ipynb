{
 "cells": [
  {
   "cell_type": "markdown",
   "metadata": {},
   "source": [
    "# Preprocessing Data"
   ]
  },
  {
   "cell_type": "markdown",
   "metadata": {},
   "source": [
    "> # Read"
   ]
  },
  {
   "cell_type": "code",
   "execution_count": 4,
   "metadata": {},
   "outputs": [],
   "source": [
    "import numpy as np\n",
    "import scipy as scp\n",
    "import sklearn as skl\n",
    "import pandas as pd\n",
    "import matplotlib\n",
    "import pickle as pk\n",
    "from sklearn.svm import SVC"
   ]
  },
  {
   "cell_type": "code",
   "execution_count": 5,
   "metadata": {},
   "outputs": [],
   "source": [
    "telecom_cust = pd.read_csv(\"WA_Fn-UseC_-Telco-Customer-Churn-2.csv\");"
   ]
  },
  {
   "cell_type": "code",
   "execution_count": 6,
   "metadata": {},
   "outputs": [],
   "source": [
    "telecom_cust.TotalCharges = pd.to_numeric(telecom_cust.TotalCharges, errors='coerce')\n",
    "telecom_cust.MonthlyCharges = pd.to_numeric(telecom_cust.MonthlyCharges, errors='coerce')"
   ]
  },
  {
   "cell_type": "markdown",
   "metadata": {},
   "source": [
    "> # Removing the missing data"
   ]
  },
  {
   "cell_type": "code",
   "execution_count": 7,
   "metadata": {},
   "outputs": [
    {
     "name": "stdout",
     "output_type": "stream",
     "text": [
      "7043\n",
      "7030\n"
     ]
    }
   ],
   "source": [
    "#Removing missing values \n",
    "print(len(telecom_cust))\n",
    "telecom_cust.dropna(inplace = True)\n",
    "print(len(telecom_cust))"
   ]
  },
  {
   "cell_type": "markdown",
   "metadata": {},
   "source": [
    "> # Using mean-method in handling the missing data"
   ]
  },
  {
   "cell_type": "code",
   "execution_count": 30,
   "metadata": {},
   "outputs": [],
   "source": [
    "#Set the missing values by mean-method.\n",
    "def set_missing_values_by_MEAN_METHOD(telecom_cust):\n",
    "    list_name_of_attributes = telecom_cust.columns;\n",
    "    for i in list_name_of_attributes:\n",
    "        #print(telecom_cust[i].value_counts().index);\n",
    "        if(telecom_cust[i].isnull().sum()>0 and telecom_cust[i].dtypes != 'object'):\n",
    "            telecom_cust[i].fillna(telecom_cust[i].mean(), inplace=True);\n",
    "        else:\n",
    "            if (telecom_cust[i].isnull().sum()>0 and telecom_cust[i].dtypes == 'object'):\n",
    "                #print(telecom_cust[i].value_counts().index);\n",
    "                telecom_cust[i].fillna(telecom_cust[i].value_counts().index.sort_values()[0], inplace=True);\n",
    "set_missing_values_by_MEAN_METHOD(telecom_cust);"
   ]
  },
  {
   "cell_type": "markdown",
   "metadata": {},
   "source": [
    "> # Using mode-method in handling the missing data"
   ]
  },
  {
   "cell_type": "code",
   "execution_count": 31,
   "metadata": {},
   "outputs": [],
   "source": [
    "#Set the missing values by mode-method.\n",
    "def set_missing_values_by_MODE_METHOD(telecom_cust):\n",
    "    list_name_of_attributes = telecom_cust.columns;\n",
    "    for i in list_name_of_attributes:\n",
    "        if(telecom_cust[i].isnull().sum()>0 and telecom_cust[i].dtypes != 'object'):\n",
    "            telecom_cust[i].fillna(telecom_cust[i].mode()[0], inplace=True);\n",
    "set_missing_values_by_MODE_METHOD(telecom_cust);"
   ]
  },
  {
   "cell_type": "markdown",
   "metadata": {},
   "source": [
    "> # Using median-method in handling the missing data"
   ]
  },
  {
   "cell_type": "code",
   "execution_count": 33,
   "metadata": {},
   "outputs": [],
   "source": [
    "#Set the missing values by median-method.\n",
    "def set_missing_values_by_MEDIAN_METHOD(telecom_cust):\n",
    "    list_name_of_attributes = telecom_cust.columns;\n",
    "    for i in list_name_of_attributes:\n",
    "        if(telecom_cust[i].isnull().sum()>0):\n",
    "            telecom_cust[i].fillna(telecom_cust[i].median(), inplace=True);\n",
    "            \n",
    "set_missing_values_by_MEDIAN_METHOD(telecom_cust);"
   ]
  },
  {
   "cell_type": "markdown",
   "metadata": {},
   "source": [
    "> # Normalizing data by max-min method"
   ]
  },
  {
   "cell_type": "code",
   "execution_count": 34,
   "metadata": {},
   "outputs": [],
   "source": [
    "#max-min method\n",
    "def normalization_data_max_min(telecom_cust):\n",
    "    for i in telecom_cust.columns:\n",
    "        if telecom_cust[i].dtypes != 'object':\n",
    "            max_value = telecom_cust[i].max();\n",
    "            min_value = telecom_cust[i].min();\n",
    "            telecom_cust[i] = (telecom_cust[i] - min_value)/(max_value - min_value);\n",
    "normalization_data_max_min(telecom_cust)"
   ]
  },
  {
   "cell_type": "markdown",
   "metadata": {},
   "source": [
    "> # Normalizing data by z-scores"
   ]
  },
  {
   "cell_type": "code",
   "execution_count": 35,
   "metadata": {},
   "outputs": [],
   "source": [
    "#z-score method\n",
    "def normalization_data_z_score(telecom_cust):\n",
    "    for i in telecom_cust.columns:\n",
    "        if telecom_cust[i].dtypes != 'object':\n",
    "            meanX = telecom_cust[i].mean();\n",
    "            sd = telecom_cust[i].std();\n",
    "            telecom_cust[i] = (telecom_cust[i]-meanX)/sd;\n",
    "normalization_data_z_score(telecom_cust)"
   ]
  },
  {
   "cell_type": "code",
   "execution_count": null,
   "metadata": {},
   "outputs": [],
   "source": []
  },
  {
   "cell_type": "code",
   "execution_count": 15,
   "metadata": {},
   "outputs": [],
   "source": [
    "#Remove customer IDs from the data set\n",
    "df2 = telecom_cust.iloc[:,1:]"
   ]
  },
  {
   "cell_type": "code",
   "execution_count": 16,
   "metadata": {},
   "outputs": [],
   "source": [
    "#Convertin the predictor variable in a binary numeric variable\n",
    "df2['Churn'].replace(to_replace='Yes', value=1, inplace=True)\n",
    "df2['Churn'].replace(to_replace='No',  value=0, inplace=True)"
   ]
  },
  {
   "cell_type": "code",
   "execution_count": 17,
   "metadata": {},
   "outputs": [],
   "source": [
    "#Let's convert all the categorical variables into dummy variables\n",
    "df_dummies = pd.get_dummies(df2)"
   ]
  },
  {
   "cell_type": "code",
   "execution_count": 18,
   "metadata": {},
   "outputs": [],
   "source": [
    "data_set = df_dummies.values\n",
    "#print(data_set[488])\n",
    "#for i in data_set:\n",
    "  #  print(i)"
   ]
  },
  {
   "cell_type": "markdown",
   "metadata": {},
   "source": [
    "Dividing data set into training set, validation set, test set. Total = 7032\n",
    "- training set = 5000\n",
    "- val set = 1000\n",
    "- test set = 1032"
   ]
  },
  {
   "cell_type": "code",
   "execution_count": 19,
   "metadata": {},
   "outputs": [],
   "source": [
    "def divide_data_set(data_set, k_train, k_val):\n",
    "    R = data_set.shape[0];\n",
    "    C = data_set.shape[1];\n",
    "    rand_indx = np.random.choice(R, R, replace = True);\n",
    "    rand_indx_train = rand_indx[np.arange(0,k_train)]\n",
    "    rand_indx_val = rand_indx[np.arange(k_train,k_val + k_train)];\n",
    "    rand_indx_test = rand_indx[np.arange(k_train + k_val,R)];\n",
    "    #------------------------------------------------------------\n",
    "    X_train = data_set[rand_indx_train];\n",
    "    Y_train = X_train[:,-1:];\n",
    "    X_train = X_train[:,0:C-1];\n",
    "    print(\"X_train shape = (%d,%d)\"%(X_train.shape));\n",
    "    print(\"Y_train shape = (%d,%d)\"%(Y_train.shape));\n",
    "    #------------------------------------------------------------\n",
    "    X_val = data_set[rand_indx_val];\n",
    "    Y_val = X_val[:,-1:];\n",
    "    X_val = X_val[:,0:C-1];\n",
    "    #------------------------------------------------------------\n",
    "    X_test = data_set[rand_indx_train];\n",
    "    Y_test = X_test[:,-1:];\n",
    "    X_test = X_test[:,0:C-1];\n",
    "    return X_train, Y_train, X_val, Y_val, X_test, Y_test;"
   ]
  },
  {
   "cell_type": "code",
   "execution_count": 20,
   "metadata": {},
   "outputs": [
    {
     "name": "stdout",
     "output_type": "stream",
     "text": [
      "X_train shape = (5000,45)\n",
      "Y_train shape = (5000,1)\n"
     ]
    }
   ],
   "source": [
    "#data set was divided: 5000:1000:1032 = train: Validation: test.\n",
    "X_train, Y_train, X_val, Y_val, X_test, Y_test = divide_data_set(data_set, 5000,1000);"
   ]
  },
  {
   "cell_type": "code",
   "execution_count": 21,
   "metadata": {},
   "outputs": [
    {
     "name": "stdout",
     "output_type": "stream",
     "text": [
      "[[-0.44037054  0.43064531  0.34550586 ...  0.          0.\n",
      "   1.        ]\n",
      " [-0.44037054  0.30841189 -0.31756941 ...  0.          0.\n",
      "   0.        ]\n",
      " [ 2.27049191 -0.34349966  0.46682038 ...  0.          0.\n",
      "   1.        ]\n",
      " ...\n",
      " [ 2.27049191  0.06394506  0.67787441 ...  0.          1.\n",
      "   0.        ]\n",
      " [-0.44037054  0.145434   -1.48916856 ...  0.          0.\n",
      "   0.        ]\n",
      " [ 2.27049191 -0.79168886  0.17765974 ...  0.          0.\n",
      "   1.        ]]\n",
      "[[0.]\n",
      " [1.]\n",
      " [0.]\n",
      " ...\n",
      " [0.]\n",
      " [1.]\n",
      " [0.]]\n"
     ]
    }
   ],
   "source": [
    "print(X_train)\n",
    "print(Y_train)"
   ]
  },
  {
   "cell_type": "code",
   "execution_count": 22,
   "metadata": {},
   "outputs": [
    {
     "name": "stderr",
     "output_type": "stream",
     "text": [
      "C:\\ProgramData\\Anaconda3\\lib\\site-packages\\sklearn\\utils\\validation.py:761: DataConversionWarning: A column-vector y was passed when a 1d array was expected. Please change the shape of y to (n_samples, ), for example using ravel().\n",
      "  y = column_or_1d(y, warn=True)\n"
     ]
    }
   ],
   "source": [
    "model = SVC(C=30, kernel='linear');\n",
    "out_model = model.fit(X_train, Y_train);"
   ]
  },
  {
   "cell_type": "code",
   "execution_count": 23,
   "metadata": {},
   "outputs": [
    {
     "name": "stdout",
     "output_type": "stream",
     "text": [
      "SVC(C=30, cache_size=200, class_weight=None, coef0=0.0,\n",
      "  decision_function_shape='ovr', degree=3, gamma='auto_deprecated',\n",
      "  kernel='linear', max_iter=-1, probability=False, random_state=None,\n",
      "  shrinking=True, tol=0.001, verbose=False)\n"
     ]
    }
   ],
   "source": [
    "print(out_model)"
   ]
  },
  {
   "cell_type": "code",
   "execution_count": 24,
   "metadata": {},
   "outputs": [],
   "source": [
    "model_name = \"svc_c_30_linear\"\n",
    "pk.dump(out_model, open(model_name, \"wb\"))"
   ]
  },
  {
   "cell_type": "code",
   "execution_count": 25,
   "metadata": {},
   "outputs": [
    {
     "name": "stdout",
     "output_type": "stream",
     "text": [
      "1.0\n"
     ]
    }
   ],
   "source": [
    "print(out_model.score(X_val,Y_val));"
   ]
  },
  {
   "cell_type": "code",
   "execution_count": 26,
   "metadata": {},
   "outputs": [
    {
     "name": "stderr",
     "output_type": "stream",
     "text": [
      "C:\\ProgramData\\Anaconda3\\lib\\site-packages\\sklearn\\utils\\validation.py:761: DataConversionWarning: A column-vector y was passed when a 1d array was expected. Please change the shape of y to (n_samples, ), for example using ravel().\n",
      "  y = column_or_1d(y, warn=True)\n"
     ]
    }
   ],
   "source": [
    "model2 = SVC(C=300, kernel='linear');\n",
    "out_model2 = model2.fit(X_train, Y_train);"
   ]
  },
  {
   "cell_type": "code",
   "execution_count": 27,
   "metadata": {},
   "outputs": [],
   "source": [
    "model_name2 = \"svc_c_300_linear\"\n",
    "pk.dump(out_model2, open(model_name2, \"wb\"))"
   ]
  },
  {
   "cell_type": "code",
   "execution_count": 28,
   "metadata": {},
   "outputs": [
    {
     "name": "stdout",
     "output_type": "stream",
     "text": [
      "1.0\n"
     ]
    }
   ],
   "source": [
    "print(out_model2.score(X_val,Y_val));"
   ]
  },
  {
   "cell_type": "code",
   "execution_count": null,
   "metadata": {},
   "outputs": [],
   "source": []
  }
 ],
 "metadata": {
  "kernelspec": {
   "display_name": "Python 3",
   "language": "python",
   "name": "python3"
  },
  "language_info": {
   "codemirror_mode": {
    "name": "ipython",
    "version": 3
   },
   "file_extension": ".py",
   "mimetype": "text/x-python",
   "name": "python",
   "nbconvert_exporter": "python",
   "pygments_lexer": "ipython3",
   "version": "3.7.3"
  }
 },
 "nbformat": 4,
 "nbformat_minor": 2
}
