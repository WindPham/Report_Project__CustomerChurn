{
 "cells": [
  {
   "cell_type": "markdown",
   "metadata": {},
   "source": [
    "# Preprocessing Data"
   ]
  },
  {
   "cell_type": "markdown",
   "metadata": {},
   "source": [
    "> Read"
   ]
  },
  {
   "cell_type": "code",
   "execution_count": 1,
   "metadata": {},
   "outputs": [],
   "source": [
    "import numpy as np\n",
    "import scipy as scp\n",
    "import sklearn as skl\n",
    "import pandas as pd\n",
    "import matplotlib\n",
    "import pickle as pk\n",
    "from sklearn.svm import SVC"
   ]
  },
  {
   "cell_type": "code",
   "execution_count": 2,
   "metadata": {},
   "outputs": [],
   "source": [
    "telecom_cust = pd.read_csv(\"WA_Fn-UseC_-Telco-Customer-Churn-2.csv\");"
   ]
  },
  {
   "cell_type": "code",
   "execution_count": 3,
   "metadata": {},
   "outputs": [],
   "source": [
    "telecom_cust.TotalCharges = pd.to_numeric(telecom_cust.TotalCharges, errors='coerce')\n",
    "telecom_cust.MonthlyCharges = pd.to_numeric(telecom_cust.MonthlyCharges, errors='coerce')"
   ]
  },
  {
   "cell_type": "code",
   "execution_count": 4,
   "metadata": {},
   "outputs": [
    {
     "name": "stdout",
     "output_type": "stream",
     "text": [
      "   customerID  gender  SeniorCitizen Partner Dependents  tenure PhoneService  \\\n",
      "0  7590-VHVEG  Female              0     NaN         No       1           No   \n",
      "1  5575-GNVDE    Male              0      No         No      34          Yes   \n",
      "2  3668-QPYBK    Male              0     NaN         No       2          Yes   \n",
      "3  7795-CFOCW    Male              0      No         No      45           No   \n",
      "4  9237-HQITU  Female              0      No         No       2          Yes   \n",
      "\n",
      "      MultipleLines InternetService OnlineSecurity  ... DeviceProtection  \\\n",
      "0  No phone service             DSL             No  ...               No   \n",
      "1                No             DSL            Yes  ...              Yes   \n",
      "2                No             DSL            Yes  ...               No   \n",
      "3  No phone service             DSL            Yes  ...              Yes   \n",
      "4                No     Fiber optic             No  ...               No   \n",
      "\n",
      "  TechSupport StreamingTV StreamingMovies        Contract PaperlessBilling  \\\n",
      "0          No          No              No  Month-to-month              Yes   \n",
      "1          No          No              No        One year               No   \n",
      "2          No          No              No  Month-to-month              Yes   \n",
      "3         Yes          No              No        One year               No   \n",
      "4          No          No              No  Month-to-month              Yes   \n",
      "\n",
      "               PaymentMethod MonthlyCharges  TotalCharges  Churn  \n",
      "0           Electronic check          29.85         29.85     No  \n",
      "1               Mailed check          56.95       1889.50     No  \n",
      "2               Mailed check          53.85        108.15    Yes  \n",
      "3  Bank transfer (automatic)          42.30       1840.75     No  \n",
      "4           Electronic check          70.70        151.65    Yes  \n",
      "\n",
      "[5 rows x 21 columns]\n",
      "customerID           0\n",
      "gender               0\n",
      "SeniorCitizen        0\n",
      "Partner              2\n",
      "Dependents           0\n",
      "tenure               0\n",
      "PhoneService         0\n",
      "MultipleLines        0\n",
      "InternetService      0\n",
      "OnlineSecurity       0\n",
      "OnlineBackup         0\n",
      "DeviceProtection     0\n",
      "TechSupport          0\n",
      "StreamingTV          0\n",
      "StreamingMovies      0\n",
      "Contract             0\n",
      "PaperlessBilling     0\n",
      "PaymentMethod        0\n",
      "MonthlyCharges       0\n",
      "TotalCharges        11\n",
      "Churn                0\n",
      "dtype: int64\n"
     ]
    }
   ],
   "source": [
    "print(telecom_cust.head())\n",
    "print(telecom_cust.isnull().sum());"
   ]
  },
  {
   "cell_type": "code",
   "execution_count": 5,
   "metadata": {},
   "outputs": [
    {
     "name": "stdout",
     "output_type": "stream",
     "text": [
      "7043\n",
      "7030\n"
     ]
    }
   ],
   "source": [
    "#Removing missing values \n",
    "print(len(telecom_cust))\n",
    "telecom_cust.dropna(inplace = True)\n",
    "print(len(telecom_cust))"
   ]
  },
  {
   "cell_type": "code",
   "execution_count": 6,
   "metadata": {},
   "outputs": [
    {
     "name": "stdout",
     "output_type": "stream",
     "text": [
      "customerID          0\n",
      "gender              0\n",
      "SeniorCitizen       0\n",
      "Partner             0\n",
      "Dependents          0\n",
      "tenure              0\n",
      "PhoneService        0\n",
      "MultipleLines       0\n",
      "InternetService     0\n",
      "OnlineSecurity      0\n",
      "OnlineBackup        0\n",
      "DeviceProtection    0\n",
      "TechSupport         0\n",
      "StreamingTV         0\n",
      "StreamingMovies     0\n",
      "Contract            0\n",
      "PaperlessBilling    0\n",
      "PaymentMethod       0\n",
      "MonthlyCharges      0\n",
      "TotalCharges        0\n",
      "Churn               0\n",
      "dtype: int64\n",
      "(7030, 21)\n",
      "   customerID  gender  SeniorCitizen Partner Dependents  tenure PhoneService  \\\n",
      "1  5575-GNVDE    Male              0      No         No      34          Yes   \n",
      "3  7795-CFOCW    Male              0      No         No      45           No   \n",
      "4  9237-HQITU  Female              0      No         No       2          Yes   \n",
      "5  9305-CDSKC  Female              0      No         No       8          Yes   \n",
      "6  1452-KIOVK    Male              0      No        Yes      22          Yes   \n",
      "\n",
      "      MultipleLines InternetService OnlineSecurity  ... DeviceProtection  \\\n",
      "1                No             DSL            Yes  ...              Yes   \n",
      "3  No phone service             DSL            Yes  ...              Yes   \n",
      "4                No     Fiber optic             No  ...               No   \n",
      "5               Yes     Fiber optic             No  ...              Yes   \n",
      "6               Yes     Fiber optic             No  ...               No   \n",
      "\n",
      "  TechSupport StreamingTV StreamingMovies        Contract PaperlessBilling  \\\n",
      "1          No          No              No        One year               No   \n",
      "3         Yes          No              No        One year               No   \n",
      "4          No          No              No  Month-to-month              Yes   \n",
      "5          No         Yes             Yes  Month-to-month              Yes   \n",
      "6          No         Yes              No  Month-to-month              Yes   \n",
      "\n",
      "               PaymentMethod MonthlyCharges  TotalCharges  Churn  \n",
      "1               Mailed check          56.95       1889.50     No  \n",
      "3  Bank transfer (automatic)          42.30       1840.75     No  \n",
      "4           Electronic check          70.70        151.65    Yes  \n",
      "5           Electronic check          99.65        820.50    Yes  \n",
      "6    Credit card (automatic)          89.10       1949.40     No  \n",
      "\n",
      "[5 rows x 21 columns]\n"
     ]
    }
   ],
   "source": [
    "#Set the missing values by mean-method.\n",
    "def set_missing_values_by_MEAN_METHOD(telecom_cust):\n",
    "    list_name_of_attributes = telecom_cust.columns;\n",
    "    for i in list_name_of_attributes:\n",
    "        #print(telecom_cust[i].value_counts().index);\n",
    "        if(telecom_cust[i].isnull().sum()>0 and telecom_cust[i].dtypes != 'object'):\n",
    "            telecom_cust[i].fillna(telecom_cust[i].mean(), inplace=True);\n",
    "        else:\n",
    "            if (telecom_cust[i].isnull().sum()>0 and telecom_cust[i].dtypes == 'object'):\n",
    "                #print(telecom_cust[i].value_counts().index);\n",
    "                telecom_cust[i].fillna(telecom_cust[i].value_counts().index.sort_values()[0], inplace=True);\n",
    "set_missing_values_by_MEAN_METHOD(telecom_cust);\n",
    "print(telecom_cust.isnull().sum())\n",
    "print(telecom_cust.shape)\n",
    "print(telecom_cust.head())"
   ]
  },
  {
   "cell_type": "code",
   "execution_count": 8,
   "metadata": {},
   "outputs": [
    {
     "name": "stdout",
     "output_type": "stream",
     "text": [
      "customerID          0\n",
      "gender              0\n",
      "SeniorCitizen       0\n",
      "Partner             0\n",
      "Dependents          0\n",
      "tenure              0\n",
      "PhoneService        0\n",
      "MultipleLines       0\n",
      "InternetService     0\n",
      "OnlineSecurity      0\n",
      "OnlineBackup        0\n",
      "DeviceProtection    0\n",
      "TechSupport         0\n",
      "StreamingTV         0\n",
      "StreamingMovies     0\n",
      "Contract            0\n",
      "PaperlessBilling    0\n",
      "PaymentMethod       0\n",
      "MonthlyCharges      0\n",
      "TotalCharges        0\n",
      "Churn               0\n",
      "dtype: int64\n",
      "(7030, 21)\n"
     ]
    }
   ],
   "source": [
    "#Set the missing values by mode-method.\n",
    "def set_missing_values_by_MODE_METHOD(telecom_cust):\n",
    "    list_name_of_attributes = telecom_cust.columns;\n",
    "    for i in list_name_of_attributes:\n",
    "        if(telecom_cust[i].isnull().sum()>0 and telecom_cust[i].dtypes != 'object'):\n",
    "            telecom_cust[i].fillna(telecom_cust[i].mode()[0], inplace=True);\n",
    "set_missing_values_by_MODE_METHOD(telecom_cust);\n",
    "print(telecom_cust.isnull().sum());\n",
    "print(telecom_cust.shape);"
   ]
  },
  {
   "cell_type": "code",
   "execution_count": 9,
   "metadata": {},
   "outputs": [
    {
     "name": "stdout",
     "output_type": "stream",
     "text": [
      "customerID          0\n",
      "gender              0\n",
      "SeniorCitizen       0\n",
      "Partner             0\n",
      "Dependents          0\n",
      "tenure              0\n",
      "PhoneService        0\n",
      "MultipleLines       0\n",
      "InternetService     0\n",
      "OnlineSecurity      0\n",
      "OnlineBackup        0\n",
      "DeviceProtection    0\n",
      "TechSupport         0\n",
      "StreamingTV         0\n",
      "StreamingMovies     0\n",
      "Contract            0\n",
      "PaperlessBilling    0\n",
      "PaymentMethod       0\n",
      "MonthlyCharges      0\n",
      "TotalCharges        0\n",
      "Churn               0\n",
      "dtype: int64\n",
      "(7030, 21)\n"
     ]
    }
   ],
   "source": [
    "#Set the missing values by median-method.\n",
    "def set_missing_values_by_MEDIAN_METHOD(telecom_cust):\n",
    "    list_name_of_attributes = telecom_cust.columns;\n",
    "    for i in list_name_of_attributes:\n",
    "        if(telecom_cust[i].isnull().sum()>0):\n",
    "            telecom_cust[i].fillna(telecom_cust[i].median(), inplace=True);\n",
    "            \n",
    "set_missing_values_by_MEDIAN_METHOD(telecom_cust);\n",
    "print(telecom_cust.isnull().sum())\n",
    "print(telecom_cust.shape)"
   ]
  },
  {
   "cell_type": "code",
   "execution_count": 10,
   "metadata": {},
   "outputs": [
    {
     "name": "stdout",
     "output_type": "stream",
     "text": [
      "customerID\n",
      "object\n",
      "gender\n",
      "object\n",
      "SeniorCitizen\n",
      "int64\n",
      "1\n",
      "0\n",
      "Partner\n",
      "object\n",
      "Dependents\n",
      "object\n",
      "tenure\n",
      "int64\n",
      "72\n",
      "1\n",
      "PhoneService\n",
      "object\n",
      "MultipleLines\n",
      "object\n",
      "InternetService\n",
      "object\n",
      "OnlineSecurity\n",
      "object\n",
      "OnlineBackup\n",
      "object\n",
      "DeviceProtection\n",
      "object\n",
      "TechSupport\n",
      "object\n",
      "StreamingTV\n",
      "object\n",
      "StreamingMovies\n",
      "object\n",
      "Contract\n",
      "object\n",
      "PaperlessBilling\n",
      "object\n",
      "PaymentMethod\n",
      "object\n",
      "MonthlyCharges\n",
      "float64\n",
      "118.75\n",
      "18.25\n",
      "TotalCharges\n",
      "float64\n",
      "8684.8\n",
      "18.8\n",
      "Churn\n",
      "object\n",
      "   customerID  gender  SeniorCitizen Partner Dependents    tenure  \\\n",
      "1  5575-GNVDE    Male            0.0      No         No  0.464789   \n",
      "3  7795-CFOCW    Male            0.0      No         No  0.619718   \n",
      "4  9237-HQITU  Female            0.0      No         No  0.014085   \n",
      "5  9305-CDSKC  Female            0.0      No         No  0.098592   \n",
      "6  1452-KIOVK    Male            0.0      No        Yes  0.295775   \n",
      "\n",
      "  PhoneService     MultipleLines InternetService OnlineSecurity  ...  \\\n",
      "1          Yes                No             DSL            Yes  ...   \n",
      "3           No  No phone service             DSL            Yes  ...   \n",
      "4          Yes                No     Fiber optic             No  ...   \n",
      "5          Yes               Yes     Fiber optic             No  ...   \n",
      "6          Yes               Yes     Fiber optic             No  ...   \n",
      "\n",
      "  DeviceProtection TechSupport StreamingTV StreamingMovies        Contract  \\\n",
      "1              Yes          No          No              No        One year   \n",
      "3              Yes         Yes          No              No        One year   \n",
      "4               No          No          No              No  Month-to-month   \n",
      "5              Yes          No         Yes             Yes  Month-to-month   \n",
      "6               No          No         Yes              No  Month-to-month   \n",
      "\n",
      "  PaperlessBilling              PaymentMethod MonthlyCharges  TotalCharges  \\\n",
      "1               No               Mailed check       0.385075      0.215867   \n",
      "3               No  Bank transfer (automatic)       0.239303      0.210241   \n",
      "4              Yes           Electronic check       0.521891      0.015330   \n",
      "5              Yes           Electronic check       0.809950      0.092511   \n",
      "6              Yes    Credit card (automatic)       0.704975      0.222779   \n",
      "\n",
      "   Churn  \n",
      "1     No  \n",
      "3     No  \n",
      "4    Yes  \n",
      "5    Yes  \n",
      "6     No  \n",
      "\n",
      "[5 rows x 21 columns]\n"
     ]
    }
   ],
   "source": [
    "def normalization_data(telecom_cust):\n",
    "    for i in telecom_cust.columns:\n",
    "        print(i)\n",
    "        print(telecom_cust[i].dtypes)\n",
    "        if telecom_cust[i].dtypes != 'object':\n",
    "            max_value = telecom_cust[i].max();\n",
    "            min_value = telecom_cust[i].min();\n",
    "            print(max_value)\n",
    "            print(min_value)\n",
    "            telecom_cust[i] = (telecom_cust[i] - min_value)/(max_value - min_value);\n",
    "normalization_data(telecom_cust)\n",
    "print(telecom_cust.head())\n"
   ]
  },
  {
   "cell_type": "code",
   "execution_count": 11,
   "metadata": {},
   "outputs": [],
   "source": [
    "#Remove customer IDs from the data set\n",
    "df2 = telecom_cust.iloc[:,1:]"
   ]
  },
  {
   "cell_type": "code",
   "execution_count": 12,
   "metadata": {},
   "outputs": [],
   "source": [
    "#Convertin the predictor variable in a binary numeric variable\n",
    "df2['Churn'].replace(to_replace='Yes', value=1, inplace=True)\n",
    "df2['Churn'].replace(to_replace='No',  value=0, inplace=True)"
   ]
  },
  {
   "cell_type": "code",
   "execution_count": 13,
   "metadata": {},
   "outputs": [],
   "source": [
    "#Let's convert all the categorical variables into dummy variables\n",
    "df_dummies = pd.get_dummies(df2)"
   ]
  },
  {
   "cell_type": "code",
   "execution_count": 14,
   "metadata": {},
   "outputs": [],
   "source": [
    "data_set = df_dummies.values\n",
    "#print(data_set[488])\n",
    "#for i in data_set:\n",
    "  #  print(i)"
   ]
  },
  {
   "cell_type": "markdown",
   "metadata": {},
   "source": [
    "Dividing data set into training set, validation set, test set. Total = 7032\n",
    "- training set = 5000\n",
    "- val set = 1000\n",
    "- test set = 1032"
   ]
  },
  {
   "cell_type": "code",
   "execution_count": 15,
   "metadata": {},
   "outputs": [],
   "source": [
    "def divide_data_set(data_set, k_train, k_val):\n",
    "    R = data_set.shape[0];\n",
    "    C = data_set.shape[1];\n",
    "    rand_indx = np.random.choice(R, R, replace = True);\n",
    "    rand_indx_train = rand_indx[np.arange(0,k_train)]\n",
    "    rand_indx_val = rand_indx[np.arange(k_train,k_val + k_train)];\n",
    "    rand_indx_test = rand_indx[np.arange(k_train + k_val,R)];\n",
    "    #------------------------------------------------------------\n",
    "    X_train = data_set[rand_indx_train];\n",
    "    Y_train = X_train[:,-1:];\n",
    "    X_train = X_train[:,0:C-1];\n",
    "    print(\"X_train shape = (%d,%d)\"%(X_train.shape));\n",
    "    print(\"Y_train shape = (%d,%d)\"%(Y_train.shape));\n",
    "    #------------------------------------------------------------\n",
    "    X_val = data_set[rand_indx_val];\n",
    "    Y_val = X_val[:,-1:];\n",
    "    X_val = X_val[:,0:C-1];\n",
    "    #------------------------------------------------------------\n",
    "    X_test = data_set[rand_indx_train];\n",
    "    Y_test = X_test[:,-1:];\n",
    "    X_test = X_test[:,0:C-1];\n",
    "    return X_train, Y_train, X_val, Y_val, X_test, Y_test;"
   ]
  },
  {
   "cell_type": "code",
   "execution_count": 16,
   "metadata": {},
   "outputs": [
    {
     "name": "stdout",
     "output_type": "stream",
     "text": [
      "X_train shape = (5000,45)\n",
      "Y_train shape = (5000,1)\n"
     ]
    }
   ],
   "source": [
    "X_train, Y_train, X_val, Y_val, X_test, Y_test = divide_data_set(data_set, 5000,1000);"
   ]
  },
  {
   "cell_type": "code",
   "execution_count": 17,
   "metadata": {},
   "outputs": [
    {
     "name": "stdout",
     "output_type": "stream",
     "text": [
      "[[0.         0.14084507 0.47860697 ... 0.         0.         1.        ]\n",
      " [0.         0.8028169  0.53084577 ... 0.         1.         0.        ]\n",
      " [0.         0.01408451 0.27164179 ... 0.         0.         1.        ]\n",
      " ...\n",
      " [0.         0.         0.37114428 ... 0.         0.         0.        ]\n",
      " [1.         0.3943662  0.79850746 ... 0.         0.         1.        ]\n",
      " [0.         0.         0.01940299 ... 0.         0.         0.        ]]\n",
      "[[0.]\n",
      " [0.]\n",
      " [0.]\n",
      " ...\n",
      " [1.]\n",
      " [0.]\n",
      " [1.]]\n"
     ]
    }
   ],
   "source": [
    "print(X_train)\n",
    "print(Y_train)"
   ]
  },
  {
   "cell_type": "code",
   "execution_count": 18,
   "metadata": {},
   "outputs": [
    {
     "name": "stderr",
     "output_type": "stream",
     "text": [
      "C:\\ProgramData\\Anaconda3\\lib\\site-packages\\sklearn\\utils\\validation.py:761: DataConversionWarning: A column-vector y was passed when a 1d array was expected. Please change the shape of y to (n_samples, ), for example using ravel().\n",
      "  y = column_or_1d(y, warn=True)\n"
     ]
    }
   ],
   "source": [
    "model = SVC(C=30, kernel='linear');\n",
    "out_model = model.fit(X_train, Y_train);"
   ]
  },
  {
   "cell_type": "code",
   "execution_count": 19,
   "metadata": {},
   "outputs": [
    {
     "name": "stdout",
     "output_type": "stream",
     "text": [
      "SVC(C=30, cache_size=200, class_weight=None, coef0=0.0,\n",
      "  decision_function_shape='ovr', degree=3, gamma='auto_deprecated',\n",
      "  kernel='linear', max_iter=-1, probability=False, random_state=None,\n",
      "  shrinking=True, tol=0.001, verbose=False)\n"
     ]
    }
   ],
   "source": [
    "print(out_model)"
   ]
  },
  {
   "cell_type": "code",
   "execution_count": 20,
   "metadata": {},
   "outputs": [],
   "source": [
    "model_name = \"svc_c_30_linear\"\n",
    "pk.dump(out_model, open(model_name, \"wb\"))"
   ]
  },
  {
   "cell_type": "code",
   "execution_count": 21,
   "metadata": {},
   "outputs": [
    {
     "name": "stdout",
     "output_type": "stream",
     "text": [
      "1.0\n"
     ]
    }
   ],
   "source": [
    "print(out_model.score(X_val,Y_val));"
   ]
  },
  {
   "cell_type": "code",
   "execution_count": 22,
   "metadata": {},
   "outputs": [
    {
     "name": "stderr",
     "output_type": "stream",
     "text": [
      "C:\\ProgramData\\Anaconda3\\lib\\site-packages\\sklearn\\utils\\validation.py:761: DataConversionWarning: A column-vector y was passed when a 1d array was expected. Please change the shape of y to (n_samples, ), for example using ravel().\n",
      "  y = column_or_1d(y, warn=True)\n"
     ]
    }
   ],
   "source": [
    "model2 = SVC(C=300, kernel='linear');\n",
    "out_model2 = model2.fit(X_train, Y_train);"
   ]
  },
  {
   "cell_type": "code",
   "execution_count": 23,
   "metadata": {},
   "outputs": [],
   "source": [
    "model_name2 = \"svc_c_300_linear\"\n",
    "pk.dump(out_model2, open(model_name2, \"wb\"))"
   ]
  },
  {
   "cell_type": "code",
   "execution_count": 24,
   "metadata": {},
   "outputs": [
    {
     "name": "stdout",
     "output_type": "stream",
     "text": [
      "1.0\n"
     ]
    }
   ],
   "source": [
    "print(out_model2.score(X_val,Y_val));"
   ]
  },
  {
   "cell_type": "code",
   "execution_count": null,
   "metadata": {},
   "outputs": [],
   "source": []
  }
 ],
 "metadata": {
  "kernelspec": {
   "display_name": "Python 3",
   "language": "python",
   "name": "python3"
  },
  "language_info": {
   "codemirror_mode": {
    "name": "ipython",
    "version": 3
   },
   "file_extension": ".py",
   "mimetype": "text/x-python",
   "name": "python",
   "nbconvert_exporter": "python",
   "pygments_lexer": "ipython3",
   "version": "3.7.3"
  }
 },
 "nbformat": 4,
 "nbformat_minor": 2
}
